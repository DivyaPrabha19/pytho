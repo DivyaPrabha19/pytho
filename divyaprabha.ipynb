{
  "nbformat": 4,
  "nbformat_minor": 0,
  "metadata": {
    "colab": {
      "provenance": [],
      "authorship_tag": "ABX9TyPXumNzM07ELdCZ7BuNv0ur",
      "include_colab_link": true
    },
    "kernelspec": {
      "name": "python3",
      "display_name": "Python 3"
    },
    "language_info": {
      "name": "python"
    }
  },
  "cells": [
    {
      "cell_type": "markdown",
      "metadata": {
        "id": "view-in-github",
        "colab_type": "text"
      },
      "source": [
        "<a href=\"https://colab.research.google.com/github/DivyaPrabha19/pytho/blob/main/divyaprabha.ipynb\" target=\"_parent\"><img src=\"https://colab.research.google.com/assets/colab-badge.svg\" alt=\"Open In Colab\"/></a>"
      ]
    },
    {
      "cell_type": "code",
      "execution_count": null,
      "metadata": {
        "id": "q2Or8Cc4Blqk"
      },
      "outputs": [],
      "source": []
    },
    {
      "cell_type": "markdown",
      "source": [
        "1. Develop a Python program that checks whether a given number is even or odd. Prompt the user to input a number, and then display a message indicating whether the number is even or odd.\n"
      ],
      "metadata": {
        "id": "-Pb4Da-bCbLu"
      }
    },
    {
      "cell_type": "code",
      "source": [
        "a=int(input(\"Enter a number:\"))\n",
        "if(a%2==0):\n",
        "  print(\"The number is even\")\n",
        "else:\n",
        "  print(\"The number is odd\")"
      ],
      "metadata": {
        "id": "z0BuZLFXC9L_"
      },
      "execution_count": null,
      "outputs": []
    },
    {
      "cell_type": "markdown",
      "source": [
        "2. Write a Python program that calculates the sum of digits of a positive integer. Prompt the user to input a number, then display the sum of its digits.\n"
      ],
      "metadata": {
        "id": "xieTF0xhEIT1"
      }
    },
    {
      "cell_type": "code",
      "source": [
        "a=int(input(\"Enter a number:\"))\n",
        "sum=0\n",
        "if a>0:\n",
        "  for i in a:\n",
        "    sum=sum+i\n",
        "print(\"The sum of digits of positive integer: \",sum)\n",
        "else:\n",
        "  print(\"Enter a positive number\")\n",
        "\n"
      ],
      "metadata": {
        "id": "Aqg1_JaYEJlx"
      },
      "execution_count": null,
      "outputs": []
    },
    {
      "cell_type": "markdown",
      "source": [
        "3. Create a Python program that generates the Fibonacci series up to a specified number of terms. The Fibonacci series is a sequence of numbers where each number is the sum of the two preceding ones, starting from 0 and 1.\n"
      ],
      "metadata": {
        "id": "3-W5pEb9F4qm"
      }
    },
    {
      "cell_type": "code",
      "source": [
        "n=int(input(\"Enter a number:\"))\n",
        "t1=0\n",
        "t2=1\n",
        "t3=t1+t2\n",
        "print(t1,t2)\n",
        "count=0\n",
        "while count<n:\n",
        "  print(t3)\n",
        "  t1=t2\n",
        "  t2=t3\n",
        "  t3=t1+t2\n",
        "  count+=1\n",
        "print()"
      ],
      "metadata": {
        "id": "Mw2pcffyF-DY"
      },
      "execution_count": null,
      "outputs": []
    },
    {
      "cell_type": "markdown",
      "source": [
        "4. Write a Python program to calculate the factorial of a given number. The factorial of a non-negative integer n is the product of all positive integers less than or equal to n."
      ],
      "metadata": {
        "id": "-lx_k8o-JZ9T"
      }
    },
    {
      "cell_type": "code",
      "source": [
        "num = int(input(\"Enter a non-negative integer: \"))\n",
        "if num < 0:\n",
        "    print(\"Factorial is not defined for negative numbers.\")\n",
        "else:\n",
        "    print(\"Factorial of\", num, \"is\", factorial(num))"
      ],
      "metadata": {
        "id": "UcTAseCeJtPV"
      },
      "execution_count": null,
      "outputs": []
    },
    {
      "cell_type": "markdown",
      "source": [
        "5. Develop a Python program that calculates the area of various shapes such as square, rectangle, circle, and triangle. Prompt the user to select a shape and then input the required dimensions. Display the calculated area.\n",
        "\n",
        "\n",
        "```\n",
        "\n"
      ],
      "metadata": {
        "id": "C3ME7BmvJzUp"
      }
    },
    {
      "cell_type": "code",
      "source": [
        "import math\n",
        "\n",
        "def calculate_square_area(side):\n",
        "    return side * side\n",
        "\n",
        "def calculate_rectangle_area(length, width):\n",
        "    return length * width\n",
        "\n",
        "def calculate_circle_area(radius):\n",
        "    return math.pi * radius * radius\n",
        "\n",
        "def calculate_triangle_area(base, height):\n",
        "    return 0.5 * base * height\n",
        "\n",
        "print(\"Select a shape to calculate the area:\")\n",
        "print(\"1. Square\")\n",
        "print(\"2. Rectangle\")\n",
        "print(\"3. Circle\")\n",
        "print(\"4. Triangle\")\n",
        "\n",
        "choice = int(input(\"Enter your choice (1/2/3/4): \"))\n",
        "\n",
        "if choice == 1:\n",
        "    side = float(input(\"Enter the length of a side of the square: \"))\n",
        "    print(\"Area of the square:\", calculate_square_area(side))\n",
        "elif choice == 2:\n",
        "    length = float(input(\"Enter the length of the rectangle: \"))\n",
        "    width = float(input(\"Enter the width of the rectangle: \"))\n",
        "    print(\"Area of the rectangle:\", calculate_rectangle_area(length, width))\n",
        "elif choice == 3:\n",
        "    radius = float(input(\"Enter the radius of the circle: \"))\n",
        "    print(\"Area of the circle:\", calculate_circle_area(radius))\n",
        "elif choice == 4:\n",
        "    base = float(input(\"Enter the base length of the triangle: \"))\n",
        "    height = float(input(\"Enter the height of the triangle: \"))\n",
        "    print(\"Area of the triangle:\", calculate_triangle_area(base, height))\n",
        "else:\n",
        "    print(\"Invalid choice! Please enter a valid choice (1/2/3/4).\")\n"
      ],
      "metadata": {
        "id": "zmPDguEjKSzY"
      },
      "execution_count": null,
      "outputs": []
    },
    {
      "cell_type": "markdown",
      "source": [
        "6. Create a Python program that checks whether a given string is a palindrome or not. A palindrome is a word, phrase, number, or other sequence of characters that reads the same forward and backward."
      ],
      "metadata": {
        "id": "uhW1quSwKnJz"
      }
    },
    {
      "cell_type": "code",
      "source": [
        "def is_palindrome(string):\n",
        "    string = string.lower().replace(\" \", \"\")\n",
        "    return string == string[::-1]\n",
        "\n",
        "input_string = input(\"Enter a string: \")\n",
        "if is_palindrome(input_string):\n",
        "    print(\"The string is a palindrome.\")\n",
        "else:\n",
        "    print(\"The string is not a palindrome.\")\n"
      ],
      "metadata": {
        "id": "f_Dmjdg1LSDd"
      },
      "execution_count": null,
      "outputs": []
    },
    {
      "cell_type": "code",
      "source": [],
      "metadata": {
        "id": "ZLqXZmV8FdAZ"
      },
      "execution_count": null,
      "outputs": []
    },
    {
      "cell_type": "markdown",
      "source": [
        "PLACEMENT LAB-1\n",
        "1. Write a program to create a new string made of an input string’s first, middle, and last character.\n",
        "\tEg:  str1= ”PRADEEP”\n",
        "\tOutput: PDP\n"
      ],
      "metadata": {
        "id": "5kqTztyOFdqS"
      }
    },
    {
      "cell_type": "code",
      "source": [
        "str1=input()\n",
        "a=len(str1)//2\n",
        "print(str1[0]+str1[a]+str1[-1])"
      ],
      "metadata": {
        "colab": {
          "base_uri": "https://localhost:8080/"
        },
        "id": "15Kc1vqeF8PC",
        "outputId": "052e6387-fd26-4168-e4e0-e7bf8837e3c3"
      },
      "execution_count": null,
      "outputs": [
        {
          "output_type": "stream",
          "name": "stdout",
          "text": [
            "PRADEEP\n",
            "PDP\n"
          ]
        }
      ]
    },
    {
      "cell_type": "markdown",
      "source": [
        "2. Write a program to create a new string made of the middle three characters of an input string.\n",
        "\tEg: str1= “PRADEEP”                     \n",
        "\tOutput: ADE\n",
        "\n"
      ],
      "metadata": {
        "id": "BW66ogobGSJy"
      }
    },
    {
      "cell_type": "code",
      "source": [
        "str1=input()\n",
        "a=len(str1)//2\n",
        "print(str1[a-1]+str1[a]+str1[a+1])"
      ],
      "metadata": {
        "colab": {
          "base_uri": "https://localhost:8080/"
        },
        "id": "cu2lag50GYmk",
        "outputId": "2d8097c7-4242-4d84-a161-28a0faaeddda"
      },
      "execution_count": null,
      "outputs": [
        {
          "output_type": "stream",
          "name": "stdout",
          "text": [
            "PRADEEP\n",
            "ADE\n"
          ]
        }
      ]
    },
    {
      "cell_type": "markdown",
      "source": [
        "3. Given two strings, str1 and str2. Write a program to create a new string str3 by appending str2 in the middle of str1.\n",
        "\tEg: str1= ”STAR”                                str2= “SUPER”\n",
        "\tOutput:   STSUPERAR\n"
      ],
      "metadata": {
        "id": "HYzlTcnpGoXx"
      }
    },
    {
      "cell_type": "code",
      "source": [
        "str1=input()\n",
        "str2=input()\n",
        "print(str1[:2]+str2+str1[2:])"
      ],
      "metadata": {
        "colab": {
          "base_uri": "https://localhost:8080/"
        },
        "id": "CL71KJMKGvSb",
        "outputId": "136f1e08-506d-48eb-d855-47ba6e9c7b21"
      },
      "execution_count": null,
      "outputs": [
        {
          "output_type": "stream",
          "name": "stdout",
          "text": [
            "STAR\n",
            "SUPER\n",
            "STSUPERAR\n"
          ]
        }
      ]
    },
    {
      "cell_type": "markdown",
      "source": [
        "4. Given two strings, str1 and str2, write a program to return a new string made of str1 and str2’s first, middle, and last characters.\n",
        "\tEg: str1= “LEO”                                  str2= “DAS”\n",
        "\tOutput: LDEAOS\n"
      ],
      "metadata": {
        "id": "U8mNyMIqHggP"
      }
    },
    {
      "cell_type": "code",
      "source": [
        "str1=input()\n",
        "str2=input()\n",
        "n=len(str1)//2\n",
        "a=len(str2)//2\n",
        "print(str1[0]+str2[0]+str1[n]+str2[a]+str1[-1]+str2[-1])"
      ],
      "metadata": {
        "colab": {
          "base_uri": "https://localhost:8080/"
        },
        "id": "V2hcZt_GHmbP",
        "outputId": "2844178e-cb0a-4ab5-fc48-fc2f7cfb2f12"
      },
      "execution_count": null,
      "outputs": [
        {
          "output_type": "stream",
          "name": "stdout",
          "text": [
            "LEO\n",
            "DAS\n",
            "LDEAOS\n"
          ]
        }
      ]
    },
    {
      "cell_type": "markdown",
      "source": [
        "5. Given two strings, str1 and str2, write a program to return a new string made of str1 and str2’s in reverse order.\n",
        "\tEg: str1= ”SUPER”                                         str2= ”STAR”\n",
        "\tOutput: RATSREPUS\n"
      ],
      "metadata": {
        "id": "9d1iQSmDIYcV"
      }
    },
    {
      "cell_type": "code",
      "source": [
        "str1=input()\n",
        "str2=input()\n",
        "str3=str1+str2\n",
        "print(str3[::-1])"
      ],
      "metadata": {
        "colab": {
          "base_uri": "https://localhost:8080/"
        },
        "id": "Tur6H9TMIaSe",
        "outputId": "bf099543-1849-4e3b-f2e8-90ed27a3df2c"
      },
      "execution_count": null,
      "outputs": [
        {
          "output_type": "stream",
          "name": "stdout",
          "text": [
            "SUPER\n",
            "STAR\n",
            "RATSREPUS\n"
          ]
        }
      ]
    },
    {
      "cell_type": "markdown",
      "source": [
        "6. Count all letters, digits, and special symbols from a given string\n",
        "str1 = \"P@#yn26at^&i5ve\"\n",
        "Outcome:\n",
        "Total counts of chars, digits, and symbols\n",
        "Chars = 8\n",
        "Digits = 3\n",
        "Symbol = 4\n"
      ],
      "metadata": {
        "id": "Zp1XPN3LIsKo"
      }
    },
    {
      "cell_type": "code",
      "source": [
        "str1=input()\n",
        "count=0\n",
        "count1=0\n",
        "count2=0\n",
        "for i in str1:\n",
        "  if i.isalpha():\n",
        "    count+=1\n",
        "  elif i.isdigit():\n",
        "    count1+=1\n",
        "  else:\n",
        "    count2+=1\n",
        "print(\"Total counts of chars,digits and symbols:\")\n",
        "print(\"Chars =\",count)\n",
        "print(\"Digits=\",count1)\n",
        "print(\"Symbols=\",count2)"
      ],
      "metadata": {
        "colab": {
          "base_uri": "https://localhost:8080/"
        },
        "id": "BxLhMLI4IzzK",
        "outputId": "e8597eee-8418-4db1-d9d3-a5c934cea060"
      },
      "execution_count": null,
      "outputs": [
        {
          "output_type": "stream",
          "name": "stdout",
          "text": [
            "P@#yn26at^&i5ve\n",
            "Total counts of chars,digits and symbols:\n",
            "Chars = 8\n",
            "Digits= 3\n",
            "Symbols= 4\n"
          ]
        }
      ]
    },
    {
      "cell_type": "markdown",
      "source": [
        "7. Given two strings, s1 and s2. Write a program to create a new string s3 made of the first char of s1, then the last char of s2, Next, the second char of s1 and second last char of s2, and so on. Any leftover chars go at the end of the result.\n",
        "s1 = \"Abc\"\n",
        "s2 = \"Xyz\"\n",
        "Output:\n",
        "AzbycX\n"
      ],
      "metadata": {
        "id": "Y-OzTetrKjXC"
      }
    },
    {
      "cell_type": "code",
      "source": [
        "str1=input()\n",
        "str2=input()\n",
        "str3=str1[0]+str2[-1]+str1[1]+str2[-2]+str1[2:]+str2[:-2]\n",
        "print(str3)"
      ],
      "metadata": {
        "colab": {
          "base_uri": "https://localhost:8080/"
        },
        "id": "v0TP2NYLKxaG",
        "outputId": "eb467637-afd9-4ebb-cf9e-000643d33692"
      },
      "execution_count": null,
      "outputs": [
        {
          "output_type": "stream",
          "name": "stdout",
          "text": [
            "Abc\n",
            "Xyz\n",
            "AzbycX\n"
          ]
        }
      ]
    },
    {
      "cell_type": "markdown",
      "source": [
        "1. Write a program to calculate Employee’s bonus calculation for the details given below\n",
        "Experience\tBonus (%)\n",
        "More than 8 years\t10 %\n",
        "More than 4 years\t7%\n",
        "More than 2 years\t4%\n",
        "\n",
        "\n",
        "\n"
      ],
      "metadata": {
        "id": "lSbYpZQOLgt1"
      }
    },
    {
      "cell_type": "code",
      "source": [
        "experience = int(input(\"Enter the years of experience: \"))\n",
        "\n",
        "if experience > 8:\n",
        "    bonus_percentage = 10\n",
        "elif experience > 4:\n",
        "    bonus_percentage = 7\n",
        "elif experience > 2:\n",
        "    bonus_percentage = 4\n",
        "else:\n",
        "    bonus_percentage = 0\n",
        "\n",
        "salary = float(input(\"Enter the employee's salary: \"))\n",
        "bonus_amount = (bonus_percentage / 100) * salary\n",
        "\n",
        "print(\"Employee's bonus:\",bonus_amount)"
      ],
      "metadata": {
        "colab": {
          "base_uri": "https://localhost:8080/"
        },
        "id": "wZHkrKB7LgMM",
        "outputId": "c5b6f97f-22ba-49e1-91c1-e45036b6d0bf"
      },
      "execution_count": null,
      "outputs": [
        {
          "output_type": "stream",
          "name": "stdout",
          "text": [
            "Enter the years of experience: 12\n",
            "Enter the employee's salary: 100000\n",
            "Employee's bonus: 10000.0\n"
          ]
        }
      ]
    },
    {
      "cell_type": "markdown",
      "source": [
        "2.Write a program to calculate the electricity bill (accept number of units from user) according to the following criteria:\n",
        "Units\tPrice\n",
        "First 100 units\tNo charge\n",
        "Next 100 units\tRs.5 per unit\n",
        "After 200 units\tRs.10 per unit\n",
        "\n",
        "(For example, if input unit is 350, then the total bill amount is Rs.2000)\n"
      ],
      "metadata": {
        "id": "iBrE2cb1L3yY"
      }
    },
    {
      "cell_type": "code",
      "source": [
        "a=int(input())\n",
        "if a<=100:\n",
        "    print(\"No charge\")\n",
        "elif(a>100 and a<=200):\n",
        "    print((a-100)*5)\n",
        "elif a>200:\n",
        "    b=500+(a-200)*10\n",
        "    print(b)"
      ],
      "metadata": {
        "colab": {
          "base_uri": "https://localhost:8080/"
        },
        "id": "TX_x9g8lME14",
        "outputId": "60a3c5ea-683e-4d83-c04b-b09be9c79fd1"
      },
      "execution_count": null,
      "outputs": [
        {
          "output_type": "stream",
          "name": "stdout",
          "text": [
            "350\n",
            "2000\n"
          ]
        }
      ]
    },
    {
      "cell_type": "markdown",
      "source": [
        "3. Accept the marked price from the user and calculate the Net amount as (Marked Price - Discount) to payaccording to following criteria:\n",
        "Marked Price\tDiscount\n",
        ">10000\t20%\n",
        ">7000 and <=10000\t15%\n",
        "<=7000\t10%\n",
        "\n",
        "\n"
      ],
      "metadata": {
        "id": "4QfiDw7nMZCq"
      }
    },
    {
      "cell_type": "code",
      "source": [
        "marked_price = float(input(\"Enter the marked price: \"))\n",
        "\n",
        "if marked_price > 10000:\n",
        "    discount_percentage = 20\n",
        "elif marked_price > 7000:\n",
        "    discount_percentage = 15\n",
        "else:\n",
        "    discount_percentage = 10\n",
        "\n",
        "discount_amount = (discount_percentage / 100) * marked_price\n",
        "net_amount = marked_price - discount_amount\n",
        "\n",
        "print(\"Net amount to pay:\",net_amount)"
      ],
      "metadata": {
        "colab": {
          "base_uri": "https://localhost:8080/"
        },
        "id": "MyP_eutnMYvs",
        "outputId": "05bf524f-9b9e-41a9-fb21-a1e1d3cac2ea"
      },
      "execution_count": null,
      "outputs": [
        {
          "output_type": "stream",
          "name": "stdout",
          "text": [
            "Enter the marked price: 2334.12\n",
            "Net amount to pay: 2100.708\n"
          ]
        }
      ]
    },
    {
      "cell_type": "markdown",
      "source": [
        "1. Write a program to find the given number is prime number or not."
      ],
      "metadata": {
        "id": "4HMLiNnxMx5H"
      }
    },
    {
      "cell_type": "code",
      "source": [
        "num=int(input())\n",
        "flag=False\n",
        "if num == 1:\n",
        "    print(num,\"is not a prime number\")\n",
        "elif num > 1:\n",
        "    for i in range(2,num):\n",
        "        if(num%i)==0:\n",
        "            flag=True\n",
        "            break\n",
        "    if flag:\n",
        "        print(num,\"is not a prime number\")\n",
        "    else:\n",
        "        print(num,\"is a prime number\")"
      ],
      "metadata": {
        "colab": {
          "base_uri": "https://localhost:8080/"
        },
        "id": "f5AJocO3MxhZ",
        "outputId": "e56ead1e-c0ff-41dd-93f1-5689b284fb0e"
      },
      "execution_count": null,
      "outputs": [
        {
          "output_type": "stream",
          "name": "stdout",
          "text": [
            "10\n",
            "10 is not a prime number\n"
          ]
        }
      ]
    },
    {
      "cell_type": "markdown",
      "source": [
        "2. Write a program to display all prime numbers within a range."
      ],
      "metadata": {
        "id": "7QoFmzsZNEZg"
      }
    },
    {
      "cell_type": "code",
      "source": [
        "def generate_primes(n):\n",
        "    primes = []\n",
        "    for num in range(2, n+1):\n",
        "        if all(num % i != 0 for i in range(2, int(num**0.5) + 1)):\n",
        "            primes.append(num)\n",
        "    return primes\n",
        "\n",
        "n = int(input(\"Enter the value of n: \"))\n",
        "print(\"Prime numbers up to\", n, \"are:\", generate_primes(n))"
      ],
      "metadata": {
        "colab": {
          "base_uri": "https://localhost:8080/"
        },
        "id": "V5AzLO0LNFTZ",
        "outputId": "0684f0bc-79c3-4f26-c308-34d9f45c6367"
      },
      "execution_count": null,
      "outputs": [
        {
          "output_type": "stream",
          "name": "stdout",
          "text": [
            "Enter the value of n: 10\n",
            "Prime numbers up to 10 are: [2, 3, 5, 7]\n"
          ]
        }
      ]
    },
    {
      "cell_type": "markdown",
      "source": [
        "3. Write a program to reverse a number? Example: 3256 will be printed as \t6523 (reverse order)"
      ],
      "metadata": {
        "id": "Vm-ojA5PNbp0"
      }
    },
    {
      "cell_type": "code",
      "source": [
        "number = int(input(\"Enter a number: \"))\n",
        "reversed_number = int(str(number)[::-1])\n",
        "print(\"Reversed number:\", reversed_number)"
      ],
      "metadata": {
        "colab": {
          "base_uri": "https://localhost:8080/"
        },
        "id": "CMRutHF2NZ06",
        "outputId": "3da9a2f7-22b1-4042-ee89-bf7c56ef0e6c"
      },
      "execution_count": null,
      "outputs": [
        {
          "output_type": "stream",
          "name": "stdout",
          "text": [
            "Enter a number: 12345\n",
            "Reversed number: 54321\n"
          ]
        }
      ]
    },
    {
      "cell_type": "markdown",
      "source": [
        "4. Write a program to print the following pattern\n",
        "\t\t                *\n",
        "                 *     *\n",
        "              *     *     *\n",
        "           *    *     *     *\n",
        "         *    *    *     *    *\n"
      ],
      "metadata": {
        "id": "7v5dd4dfN_bK"
      }
    },
    {
      "cell_type": "code",
      "source": [
        "\n",
        "for i in range(5):\n",
        "    for j in range(5 - i - 1):\n",
        "        print(\" \", end=\"\")\n",
        "    for k in range( i + 1):\n",
        "        print(\"*\", end=\" \")\n",
        "    print()"
      ],
      "metadata": {
        "colab": {
          "base_uri": "https://localhost:8080/"
        },
        "id": "65SaPEPiODMF",
        "outputId": "59f71d5d-91c2-4505-9831-392a345d3059"
      },
      "execution_count": null,
      "outputs": [
        {
          "output_type": "stream",
          "name": "stdout",
          "text": [
            "    * \n",
            "   * * \n",
            "  * * * \n",
            " * * * * \n",
            "* * * * * \n"
          ]
        }
      ]
    },
    {
      "cell_type": "markdown",
      "source": [
        "5.  Write a program to print the Fibonacci Series up to 10 terms."
      ],
      "metadata": {
        "id": "IHs8svyeOjls"
      }
    },
    {
      "cell_type": "code",
      "source": [
        "n=int(input(\"Enter a number:\"))\n",
        "t1=0\n",
        "t2=1\n",
        "t3=t1+t2\n",
        "print(t1,t2,end=\" \")\n",
        "count=0\n",
        "while count<n:\n",
        "  print(\" \",t3 ,end=\" \")\n",
        "  t1=t2\n",
        "  t2=t3\n",
        "  t3=t1+t2\n",
        "  count+=1\n",
        "print()"
      ],
      "metadata": {
        "colab": {
          "base_uri": "https://localhost:8080/"
        },
        "id": "eNgrBtBOOoMG",
        "outputId": "2149b74f-3348-464c-fb82-7e9bd9f50b2f"
      },
      "execution_count": null,
      "outputs": [
        {
          "output_type": "stream",
          "name": "stdout",
          "text": [
            "Enter a number:10\n",
            "0 1   1   2   3   5   8   13   21   34   55   89 \n"
          ]
        }
      ]
    },
    {
      "cell_type": "markdown",
      "source": [],
      "metadata": {
        "id": "YZSvenMvfsze"
      }
    },
    {
      "cell_type": "code",
      "source": [
        "list1=[1,2,3,4,5,6,7,8,9,10]\n",
        "odd=[]\n",
        "odds=[]\n",
        "eve=[]\n",
        "even=[]\n",
        "for i in range(11):\n",
        "    if (i%2==0):\n",
        "        eve.append(i)\n",
        "        even.append(i*i)\n",
        "    else:\n",
        "        odd.append(i)\n",
        "        odds.append(i*i)\n",
        "print(\"The even numbers are:\",eve)\n",
        "print(\"The squares of the even numbers are:\",even)\n",
        "print(\"The odd numbers are:\",odd)\n",
        "print(\"The squares of the odd numbers are:\",odds)\n",
        "\n"
      ],
      "metadata": {
        "colab": {
          "base_uri": "https://localhost:8080/"
        },
        "id": "_sBARPs-fyXT",
        "outputId": "0e0893cb-c70c-411b-d1be-431a19bae143"
      },
      "execution_count": null,
      "outputs": [
        {
          "output_type": "stream",
          "name": "stdout",
          "text": [
            "The even numbers are: [0, 2, 4, 6, 8, 10]\n",
            "The squares of the even numbers are: [0, 4, 16, 36, 64, 100]\n",
            "The odd numbers are: [1, 3, 5, 7, 9]\n",
            "The squares of the odd numbers are: [1, 9, 25, 49, 81]\n"
          ]
        }
      ]
    },
    {
      "cell_type": "code",
      "source": [
        "list1=[2,4,8,7,34,24,9]\n",
        "a=len(list1)\n",
        "mini=list1[0]\n",
        "maxi=list1[0]\n",
        "for i in list1:\n",
        "  if (maxi< i):\n",
        "    maxi=i\n",
        "  if(mini>i):\n",
        "    mini=i\n",
        "print(\"The maximum value is:\",maxi)\n",
        "print(\"The minimum value is: \",mini)"
      ],
      "metadata": {
        "colab": {
          "base_uri": "https://localhost:8080/"
        },
        "id": "TWCzo10ngCHT",
        "outputId": "7d174bd8-31a1-420f-9111-1fd8d033c1db"
      },
      "execution_count": null,
      "outputs": [
        {
          "output_type": "stream",
          "name": "stdout",
          "text": [
            "The maximum value is: 34\n",
            "The minimum value is:  2\n"
          ]
        }
      ]
    },
    {
      "cell_type": "code",
      "source": [
        "list1=[2,4,8,7,34,24,9]\n",
        "a=len(list1)\n",
        "mini=list1[0]\n",
        "maxi=list1[0]\n",
        "for i in list1:\n",
        "  if (maxi< i):\n",
        "    maxi=i\n",
        "  if(mini>i):\n",
        "    mini=i\n",
        "print(\"BEFORE REMOVAL:\",list1)\n",
        "print(\"The first maximum value is:\",maxi)\n",
        "print(\"The first minimum value is: \",mini)\n",
        "list1.remove(maxi)\n",
        "list1.remove(mini)\n",
        "print(\"AFTER REMOVAL\",list1)\n",
        "ma=list1[0]\n",
        "mi=list1[0]\n",
        "for j in list1:\n",
        "  if(ma < j):\n",
        "    ma=j\n",
        "  if(mi > j):\n",
        "    mi=j\n",
        "print(\"The second maximum value is:\",ma)\n",
        "print(\"The second minimum value is: \",mi)"
      ],
      "metadata": {
        "colab": {
          "base_uri": "https://localhost:8080/"
        },
        "id": "9zLBPGF7lCnw",
        "outputId": "1df99538-f54a-44f2-c73b-0795d05decf6"
      },
      "execution_count": null,
      "outputs": [
        {
          "output_type": "stream",
          "name": "stdout",
          "text": [
            "BEFORE REMOVAL: [2, 4, 8, 7, 34, 24, 9]\n",
            "The first maximum value is: 34\n",
            "The first minimum value is:  2\n",
            "AFTER REMOVAL [4, 8, 7, 24, 9]\n",
            "The second maximum value is: 24\n",
            "The second minimum value is:  4\n"
          ]
        }
      ]
    },
    {
      "cell_type": "code",
      "source": [
        " a= [45,67,83,24,55,87,77,34]\n",
        " b=a.index(55)\n",
        " print(b)"
      ],
      "metadata": {
        "colab": {
          "base_uri": "https://localhost:8080/"
        },
        "id": "poWXvw7Fooy_",
        "outputId": "57634ae6-256d-48e7-8d9c-6a8b318c472e"
      },
      "execution_count": null,
      "outputs": [
        {
          "output_type": "stream",
          "name": "stdout",
          "text": [
            "4\n"
          ]
        }
      ]
    },
    {
      "cell_type": "code",
      "source": [
        "def indian(rupee):\n",
        "  dollar=rupee*0.012\n",
        "  print(\"India (Rupee) to US (Dollar) conversion is:\",dollar)\n",
        "\n",
        "def celsius(c):\n",
        "  fahre=c*(9/5)+32\n",
        "  print(\"Celsius to Fahrenheit:\",fahre)\n",
        "def bami(weight,hei):\n",
        "  bmi=weight/(hei*hei)\n",
        "  print(\"BMI Calculation:\",bmi)\n",
        "def simple(p,r,t):\n",
        "  inter=(p*r*t)/100\n",
        "  print(\"Simple Interest Calculation:\",inter)\n",
        "\n",
        "rupee=int(input(\"Enter the rupees:\"))\n",
        "c=float(input(\"Enter celsius\"))\n",
        "weight=int(input(\"Enter weight\"))\n",
        "hei=int(input(\"Enter height\"))\n",
        "p=int(input(\"p\"))\n",
        "r=int(input(\"r\"))\n",
        "t=int(input(\"t\"))\n",
        "\n",
        "indian(rupee)\n",
        "celsius(c)\n",
        "bami(weight,hei)\n",
        "simple(p,r,t)\n"
      ],
      "metadata": {
        "colab": {
          "base_uri": "https://localhost:8080/"
        },
        "id": "d7vJCRPtq87x",
        "outputId": "482f9c60-ffc9-4396-855b-9de1a83d65af"
      },
      "execution_count": null,
      "outputs": [
        {
          "output_type": "stream",
          "name": "stdout",
          "text": [
            "Enter the rupees:12\n",
            "Enter celsius4235.7\n",
            "Enter weight45\n",
            "Enter height78\n",
            "p7\n",
            "r8\n",
            "t5\n",
            "India (Rupee) to US (Dollar) conversion is: 0.14400000000000002\n",
            "Celsius to Fahrenheit: 7656.26\n",
            "BMI Calculation: 0.0073964497041420114\n",
            "Simple Interest Calculation: 2.8\n"
          ]
        }
      ]
    },
    {
      "cell_type": "code",
      "source": [
        "keys = ['Ten', 'Twenty', 'Thirty']\n",
        "values = [10, 20, 30]\n",
        "for i in range(1):\n",
        "  res={keys[0]:values[0],keys[1]:values[1],keys[2]:values[2]}\n",
        "  print(res)"
      ],
      "metadata": {
        "colab": {
          "base_uri": "https://localhost:8080/"
        },
        "id": "Gsqj47zhvfvv",
        "outputId": "b46987ea-e98b-43a8-c1f8-e4010059f7cd"
      },
      "execution_count": null,
      "outputs": [
        {
          "output_type": "stream",
          "name": "stdout",
          "text": [
            "{'Ten': 10, 'Twenty': 20, 'Thirty': 30}\n"
          ]
        }
      ]
    },
    {
      "cell_type": "code",
      "source": [
        "T=[4,5,6,4,6,7,4,2,4,8,7]\n",
        "max = 0\n",
        "R = T[0]\n",
        "for i in T:\n",
        "    fre = T.count(i)\n",
        "    if fre > max:\n",
        "        max = fre\n",
        "        R = i\n",
        "print(R)\n"
      ],
      "metadata": {
        "id": "CtZRjKt45NlP"
      },
      "execution_count": null,
      "outputs": []
    },
    {
      "cell_type": "code",
      "source": [
        "lst = [5, 3, 7, 9, 8, 4, 2]\n",
        "\n",
        "n = len(lst)\n",
        "for i in range(n):\n",
        "    for j in range(0, n-i-1):\n",
        "        if lst[j] > lst[j+1]:\n",
        "            lst[j], lst[j+1] = lst[j+1], lst[j]\n",
        "\n",
        "print(\"Ascending Order:\", lst)\n",
        "\n",
        "for i in range(n):\n",
        "    for j in range(0, n-i-1):\n",
        "        if lst[j] < lst[j+1]:\n",
        "            lst[j], lst[j+1] = lst[j+1], lst[j]\n",
        "\n",
        "print(\"Descending Order:\", lst)\n"
      ],
      "metadata": {
        "colab": {
          "base_uri": "https://localhost:8080/"
        },
        "id": "BoSQnQxJ5hc2",
        "outputId": "f56fc54e-c257-4e9c-b0eb-c41936d9d7f8"
      },
      "execution_count": null,
      "outputs": [
        {
          "output_type": "stream",
          "name": "stdout",
          "text": [
            "Ascending Order: [2, 3, 4, 5, 7, 8, 9]\n",
            "Descending Order: [9, 8, 7, 5, 4, 3, 2]\n"
          ]
        }
      ]
    },
    {
      "cell_type": "code",
      "source": [
        "import random\n",
        "\n",
        "class Voter:\n",
        "    def __init__(self, name):\n",
        "        self.name = name\n",
        "        self.vote = None\n",
        "\n",
        "class Candidate:\n",
        "    def __init__(self, name):\n",
        "        self.name = name\n",
        "        self.votes = 0\n",
        "\n",
        "voter_names = [\"Voter1\", \"Voter2\", \"Voter3\", \"Voter4\", \"Voter5\", \"Voter6\", \"Voter7\", \"Voter8\", \"Voter9\", \"Voter10\"]\n",
        "\n",
        "voters = [Voter(name) for name in voter_names]\n",
        "\n",
        "candidates = [Candidate(\"A\"), Candidate(\"B\"), Candidate(\"C\")]\n",
        "\n",
        "for voter in voters:\n",
        "    voter.vote = random.choice(candidates)\n",
        "\n",
        "for voter in voters:\n",
        "    voter.vote.votes += 1\n",
        "\n",
        "winner = max(candidates, key=lambda x: x.votes)\n",
        "runner = min(candidates, key=lambda x: x.votes)\n",
        "\n",
        "print(\"Winner:\", winner.name)\n",
        "print(\"Runner:\", runner.name)\n",
        "\n",
        "print(\"Voters who voted for the winner:\")\n",
        "for voter in voters:\n",
        "    if voter.vote == winner:\n",
        "        print(voter.name)\n",
        "\n",
        "print(\"Voters who voted for the runner:\")\n",
        "for voter in voters:\n",
        "    if voter.vote == runner:\n",
        "        print(voter.name)\n"
      ],
      "metadata": {
        "colab": {
          "base_uri": "https://localhost:8080/"
        },
        "id": "iKo3mY0751u8",
        "outputId": "ff535ae8-f9cf-4e64-a752-9c062c9c477b"
      },
      "execution_count": null,
      "outputs": [
        {
          "output_type": "stream",
          "name": "stdout",
          "text": [
            "Winner: C\n",
            "Runner: A\n",
            "Voters who voted for the winner:\n",
            "Voter2\n",
            "Voter4\n",
            "Voter5\n",
            "Voter6\n",
            "Voter10\n",
            "Voters who voted for the runner:\n",
            "Voter8\n"
          ]
        }
      ]
    },
    {
      "cell_type": "code",
      "source": [
        "input_list = [0, 1, 0, 1, 1, 0, 1, 0, 1, 0]\n",
        "\n",
        "sorted_list = sorted(input_list)\n",
        "\n",
        "print(sorted_list)\n"
      ],
      "metadata": {
        "colab": {
          "base_uri": "https://localhost:8080/"
        },
        "id": "MReRaSqu5_qF",
        "outputId": "8e433c25-e017-4fa8-eab1-03deed7b633d"
      },
      "execution_count": null,
      "outputs": [
        {
          "output_type": "stream",
          "name": "stdout",
          "text": [
            "[0, 0, 0, 0, 0, 1, 1, 1, 1, 1]\n"
          ]
        }
      ]
    }
  ]
}